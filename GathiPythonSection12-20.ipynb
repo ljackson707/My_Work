{
 "cells": [
  {
   "cell_type": "code",
   "execution_count": 1,
   "metadata": {},
   "outputs": [],
   "source": [
    "def my_first_function():\n",
    "    \"This is our first function\"\n",
    "    print(\"Hello Python\")"
   ]
  },
  {
   "cell_type": "code",
   "execution_count": 2,
   "metadata": {},
   "outputs": [
    {
     "name": "stdout",
     "output_type": "stream",
     "text": [
      "Hello Python\n"
     ]
    }
   ],
   "source": [
    "my_first_function()"
   ]
  },
  {
   "cell_type": "code",
   "execution_count": 25,
   "metadata": {},
   "outputs": [],
   "source": [
    "def my_sum(x, y):\n",
    "    sum = x + y\n",
    "    return sum"
   ]
  },
  {
   "cell_type": "code",
   "execution_count": 27,
   "metadata": {},
   "outputs": [
    {
     "data": {
      "text/plain": [
       "3"
      ]
     },
     "execution_count": 27,
     "metadata": {},
     "output_type": "execute_result"
    }
   ],
   "source": [
    "my_sum(1, 2)"
   ]
  },
  {
   "cell_type": "code",
   "execution_count": 28,
   "metadata": {},
   "outputs": [],
   "source": [
    "def my_sum(x, y, z):\n",
    "    sum = x + y * z\n",
    "    return sum ** 2"
   ]
  },
  {
   "cell_type": "code",
   "execution_count": 29,
   "metadata": {},
   "outputs": [
    {
     "data": {
      "text/plain": [
       "49"
      ]
     },
     "execution_count": 29,
     "metadata": {},
     "output_type": "execute_result"
    }
   ],
   "source": [
    "my_sum(1, 2, 3)"
   ]
  },
  {
   "cell_type": "code",
   "execution_count": 30,
   "metadata": {},
   "outputs": [],
   "source": [
    "def function1(x, *args):\n",
    "    print(x)"
   ]
  },
  {
   "cell_type": "code",
   "execution_count": 32,
   "metadata": {},
   "outputs": [
    {
     "name": "stdout",
     "output_type": "stream",
     "text": [
      "hello\n"
     ]
    }
   ],
   "source": [
    "function1('hello')"
   ]
  },
  {
   "cell_type": "code",
   "execution_count": 34,
   "metadata": {},
   "outputs": [],
   "source": [
    "def function1(x, *args):\n",
    "    print(x)\n",
    "    print(args)"
   ]
  },
  {
   "cell_type": "code",
   "execution_count": 35,
   "metadata": {},
   "outputs": [
    {
     "name": "stdout",
     "output_type": "stream",
     "text": [
      "hello\n",
      "()\n"
     ]
    }
   ],
   "source": [
    "function1('hello')"
   ]
  },
  {
   "cell_type": "code",
   "execution_count": 36,
   "metadata": {},
   "outputs": [],
   "source": [
    "def function1(x, *args):\n",
    "    print(x)\n",
    "    for argument in args:\n",
    "        print(argument)"
   ]
  },
  {
   "cell_type": "code",
   "execution_count": 37,
   "metadata": {},
   "outputs": [
    {
     "name": "stdout",
     "output_type": "stream",
     "text": [
      "1\n",
      "2\n",
      "3\n"
     ]
    }
   ],
   "source": [
    "function1(1, 2, 3)"
   ]
  },
  {
   "cell_type": "code",
   "execution_count": 42,
   "metadata": {},
   "outputs": [
    {
     "name": "stdout",
     "output_type": "stream",
     "text": [
      "[0, 1, 2, 3, 4, 5, 6, 7, 8, 9]\n"
     ]
    }
   ],
   "source": [
    "print(list(range(10)))"
   ]
  },
  {
   "cell_type": "code",
   "execution_count": 44,
   "metadata": {},
   "outputs": [],
   "source": [
    "my_var= 10"
   ]
  },
  {
   "cell_type": "code",
   "execution_count": 46,
   "metadata": {},
   "outputs": [
    {
     "name": "stdout",
     "output_type": "stream",
     "text": [
      "100\n"
     ]
    }
   ],
   "source": [
    "print(my_var*10)"
   ]
  },
  {
   "cell_type": "code",
   "execution_count": 49,
   "metadata": {},
   "outputs": [
    {
     "name": "stdout",
     "output_type": "stream",
     "text": [
      "10\n"
     ]
    }
   ],
   "source": [
    "def my_var_func():\n",
    "    my_var = 10\n",
    "    print(my_var)\n",
    "    \n",
    "my_var_func()"
   ]
  },
  {
   "cell_type": "code",
   "execution_count": 51,
   "metadata": {},
   "outputs": [
    {
     "name": "stdout",
     "output_type": "stream",
     "text": [
      "5\n",
      "10\n"
     ]
    }
   ],
   "source": [
    "my_var = 5\n",
    "def my_var_func():\n",
    "    global my_var\n",
    "    print(my_var)\n",
    "    my_var = 10\n",
    "    print(my_var)\n",
    "    \n",
    "my_var_func()"
   ]
  },
  {
   "cell_type": "code",
   "execution_count": 52,
   "metadata": {},
   "outputs": [],
   "source": [
    "import math"
   ]
  },
  {
   "cell_type": "code",
   "execution_count": 56,
   "metadata": {},
   "outputs": [],
   "source": [
    "mystr = \"This is my string the contains words for regex work\""
   ]
  },
  {
   "cell_type": "code",
   "execution_count": 57,
   "metadata": {},
   "outputs": [],
   "source": [
    "import re"
   ]
  },
  {
   "cell_type": "code",
   "execution_count": 58,
   "metadata": {},
   "outputs": [],
   "source": [
    "a = re.match(\"This\", mystr)"
   ]
  },
  {
   "cell_type": "code",
   "execution_count": 60,
   "metadata": {},
   "outputs": [
    {
     "data": {
      "text/plain": [
       "<re.Match object; span=(0, 4), match='This'>"
      ]
     },
     "execution_count": 60,
     "metadata": {},
     "output_type": "execute_result"
    }
   ],
   "source": [
    "a"
   ]
  },
  {
   "cell_type": "code",
   "execution_count": 61,
   "metadata": {},
   "outputs": [
    {
     "data": {
      "text/plain": [
       "re.Match"
      ]
     },
     "execution_count": 61,
     "metadata": {},
     "output_type": "execute_result"
    }
   ],
   "source": [
    "type(a)"
   ]
  },
  {
   "cell_type": "code",
   "execution_count": 62,
   "metadata": {},
   "outputs": [
    {
     "data": {
      "text/plain": [
       "'This'"
      ]
     },
     "execution_count": 62,
     "metadata": {},
     "output_type": "execute_result"
    }
   ],
   "source": [
    "a.group()"
   ]
  },
  {
   "cell_type": "code",
   "execution_count": 63,
   "metadata": {},
   "outputs": [],
   "source": [
    "a = re.match(\"This\", mystr, re.I)"
   ]
  },
  {
   "cell_type": "code",
   "execution_count": 64,
   "metadata": {},
   "outputs": [
    {
     "data": {
      "text/plain": [
       "<re.Match object; span=(0, 4), match='This'>"
      ]
     },
     "execution_count": 64,
     "metadata": {},
     "output_type": "execute_result"
    }
   ],
   "source": [
    "a"
   ]
  },
  {
   "cell_type": "code",
   "execution_count": 65,
   "metadata": {},
   "outputs": [
    {
     "data": {
      "text/plain": [
       "'This'"
      ]
     },
     "execution_count": 65,
     "metadata": {},
     "output_type": "execute_result"
    }
   ],
   "source": [
    "a.group()"
   ]
  },
  {
   "cell_type": "code",
   "execution_count": 71,
   "metadata": {},
   "outputs": [],
   "source": [
    "arp = \"22.22.22.1   0    b4:a9:5a:ff:c8:45  VLAN#222\""
   ]
  },
  {
   "cell_type": "code",
   "execution_count": 72,
   "metadata": {},
   "outputs": [],
   "source": [
    "a = re.search(r\"(.+?) +(\\d) +(.+?)\\s{2,}(\\w)*\", arp)"
   ]
  },
  {
   "cell_type": "code",
   "execution_count": 73,
   "metadata": {},
   "outputs": [
    {
     "data": {
      "text/plain": [
       "<re.Match object; span=(0, 41), match='22.22.22.1   0    b4:a9:5a:ff:c8:45  VLAN'>"
      ]
     },
     "execution_count": 73,
     "metadata": {},
     "output_type": "execute_result"
    }
   ],
   "source": [
    "a"
   ]
  },
  {
   "cell_type": "code",
   "execution_count": 74,
   "metadata": {},
   "outputs": [
    {
     "data": {
      "text/plain": [
       "'22.22.22.1'"
      ]
     },
     "execution_count": 74,
     "metadata": {},
     "output_type": "execute_result"
    }
   ],
   "source": [
    "a.group(1)"
   ]
  },
  {
   "cell_type": "code",
   "execution_count": 78,
   "metadata": {},
   "outputs": [
    {
     "data": {
      "text/plain": [
       "('0', 'b4:a9:5a:ff:c8:45', 'N')"
      ]
     },
     "execution_count": 78,
     "metadata": {},
     "output_type": "execute_result"
    }
   ],
   "source": [
    "a.group(2, 3, 4)"
   ]
  },
  {
   "cell_type": "code",
   "execution_count": 79,
   "metadata": {},
   "outputs": [],
   "source": [
    "a = re.findall(r\"(.+?) +(\\d) +(.+?)\\s{2,}(\\w)*\", arp)"
   ]
  },
  {
   "cell_type": "code",
   "execution_count": 80,
   "metadata": {},
   "outputs": [
    {
     "data": {
      "text/plain": [
       "[('22.22.22.1', '0', 'b4:a9:5a:ff:c8:45', 'N')]"
      ]
     },
     "execution_count": 80,
     "metadata": {},
     "output_type": "execute_result"
    }
   ],
   "source": [
    "a"
   ]
  },
  {
   "cell_type": "code",
   "execution_count": 81,
   "metadata": {},
   "outputs": [],
   "source": [
    "a = re.findall(r\"\\d\\d\\.\\d{2}\\.[0-9][0-9]\\.[0-9]{1,3}\", arp)"
   ]
  },
  {
   "cell_type": "code",
   "execution_count": 82,
   "metadata": {},
   "outputs": [
    {
     "data": {
      "text/plain": [
       "['22.22.22.1']"
      ]
     },
     "execution_count": 82,
     "metadata": {},
     "output_type": "execute_result"
    }
   ],
   "source": [
    "a"
   ]
  },
  {
   "cell_type": "code",
   "execution_count": 83,
   "metadata": {},
   "outputs": [],
   "source": [
    "b = re.sub(r\"\\d\", \"7\", arp)"
   ]
  },
  {
   "cell_type": "code",
   "execution_count": 84,
   "metadata": {},
   "outputs": [
    {
     "data": {
      "text/plain": [
       "'77.77.77.7   7    b7:a7:7a:ff:c7:77  VLAN#777'"
      ]
     },
     "execution_count": 84,
     "metadata": {},
     "output_type": "execute_result"
    }
   ],
   "source": [
    "b"
   ]
  },
  {
   "cell_type": "code",
   "execution_count": 96,
   "metadata": {},
   "outputs": [
    {
     "ename": "SyntaxError",
     "evalue": "invalid syntax (<ipython-input-96-82c3d4c0ffad>, line 3)",
     "output_type": "error",
     "traceback": [
      "\u001b[0;36m  File \u001b[0;32m\"<ipython-input-96-82c3d4c0ffad>\"\u001b[0;36m, line \u001b[0;32m3\u001b[0m\n\u001b[0;31m    def_init_(self, routername, model, serialno, ios):\u001b[0m\n\u001b[0m                                                      ^\u001b[0m\n\u001b[0;31mSyntaxError\u001b[0m\u001b[0;31m:\u001b[0m invalid syntax\n"
     ]
    }
   ],
   "source": [
    "class MyRouter(object):\n",
    "    \"This is a class that describes the char. of a router\"\n",
    "def_init_(self, routername, model, serialno, ios):\n",
    "    self.routername = routername\n",
    "    self.model = model\n",
    "    self.serialno = serialno\n",
    "    self.ios = ios"
   ]
  },
  {
   "cell_type": "code",
   "execution_count": 99,
   "metadata": {},
   "outputs": [],
   "source": [
    "list2 = [x ** 2 for x in range(10)]"
   ]
  },
  {
   "cell_type": "code",
   "execution_count": 100,
   "metadata": {},
   "outputs": [
    {
     "data": {
      "text/plain": [
       "[0, 1, 4, 9, 16, 25, 36, 49, 64, 81]"
      ]
     },
     "execution_count": 100,
     "metadata": {},
     "output_type": "execute_result"
    }
   ],
   "source": [
    "list2"
   ]
  },
  {
   "cell_type": "code",
   "execution_count": 101,
   "metadata": {},
   "outputs": [],
   "source": [
    "list3 = [x ** 2 for x in range(10) if x > 5]"
   ]
  },
  {
   "cell_type": "code",
   "execution_count": 102,
   "metadata": {},
   "outputs": [
    {
     "data": {
      "text/plain": [
       "[36, 49, 64, 81]"
      ]
     },
     "execution_count": 102,
     "metadata": {},
     "output_type": "execute_result"
    }
   ],
   "source": [
    "list3"
   ]
  },
  {
   "cell_type": "code",
   "execution_count": 103,
   "metadata": {},
   "outputs": [],
   "source": [
    "dict1 = {x: x * 2 for x in range(10)}"
   ]
  },
  {
   "cell_type": "code",
   "execution_count": 104,
   "metadata": {},
   "outputs": [
    {
     "data": {
      "text/plain": [
       "{0: 0, 1: 2, 2: 4, 3: 6, 4: 8, 5: 10, 6: 12, 7: 14, 8: 16, 9: 18}"
      ]
     },
     "execution_count": 104,
     "metadata": {},
     "output_type": "execute_result"
    }
   ],
   "source": [
    "dict1"
   ]
  },
  {
   "cell_type": "code",
   "execution_count": 105,
   "metadata": {},
   "outputs": [],
   "source": [
    "a = lambda x, y: x * y"
   ]
  },
  {
   "cell_type": "code",
   "execution_count": 108,
   "metadata": {},
   "outputs": [
    {
     "data": {
      "text/plain": [
       "function"
      ]
     },
     "execution_count": 108,
     "metadata": {},
     "output_type": "execute_result"
    }
   ],
   "source": [
    "type(a)"
   ]
  },
  {
   "cell_type": "code",
   "execution_count": 110,
   "metadata": {},
   "outputs": [
    {
     "data": {
      "text/plain": [
       "20"
      ]
     },
     "execution_count": 110,
     "metadata": {},
     "output_type": "execute_result"
    }
   ],
   "source": [
    "a(2, 10)"
   ]
  },
  {
   "cell_type": "code",
   "execution_count": 111,
   "metadata": {},
   "outputs": [],
   "source": [
    "def myfunc(mylist):\n",
    "    list_xy = []\n",
    "    for x in range(10):\n",
    "        for y in range(5):\n",
    "            result = x * y \n",
    "            list_xy.append(result)\n",
    "    return list_xy + mylist"
   ]
  },
  {
   "cell_type": "code",
   "execution_count": 112,
   "metadata": {},
   "outputs": [
    {
     "data": {
      "text/plain": [
       "[0,\n",
       " 0,\n",
       " 0,\n",
       " 0,\n",
       " 0,\n",
       " 0,\n",
       " 1,\n",
       " 2,\n",
       " 3,\n",
       " 4,\n",
       " 0,\n",
       " 2,\n",
       " 4,\n",
       " 6,\n",
       " 8,\n",
       " 0,\n",
       " 3,\n",
       " 6,\n",
       " 9,\n",
       " 12,\n",
       " 0,\n",
       " 4,\n",
       " 8,\n",
       " 12,\n",
       " 16,\n",
       " 0,\n",
       " 5,\n",
       " 10,\n",
       " 15,\n",
       " 20,\n",
       " 0,\n",
       " 6,\n",
       " 12,\n",
       " 18,\n",
       " 24,\n",
       " 0,\n",
       " 7,\n",
       " 14,\n",
       " 21,\n",
       " 28,\n",
       " 0,\n",
       " 8,\n",
       " 16,\n",
       " 24,\n",
       " 32,\n",
       " 0,\n",
       " 9,\n",
       " 18,\n",
       " 27,\n",
       " 36,\n",
       " 100,\n",
       " 200,\n",
       " 300,\n",
       " 400]"
      ]
     },
     "execution_count": 112,
     "metadata": {},
     "output_type": "execute_result"
    }
   ],
   "source": [
    "myfunc([100, 200, 300, 400])"
   ]
  },
  {
   "cell_type": "code",
   "execution_count": 113,
   "metadata": {},
   "outputs": [],
   "source": [
    "import threading \n",
    "import time"
   ]
  },
  {
   "cell_type": "code",
   "execution_count": 116,
   "metadata": {},
   "outputs": [
    {
     "name": "stdout",
     "output_type": "stream",
     "text": [
      "StartStart\n",
      "\n",
      "Start\n",
      "Start\n",
      "Start\n",
      "EndEndEndEnd\n",
      "\n",
      "\n",
      "End\n",
      "\n"
     ]
    }
   ],
   "source": [
    "def myfunc():\n",
    "    print(\"Start\")\n",
    "    time.sleep(3)\n",
    "    print('End')\n",
    "    \n",
    "threads = []\n",
    "\n",
    "for i in range(5):\n",
    "    th = threading.Thread(target = myfunc)\n",
    "    th.start()\n",
    "    threads.append(th)\n",
    "\n",
    "for th in threads:\n",
    "    th.join()"
   ]
  },
  {
   "cell_type": "code",
   "execution_count": 118,
   "metadata": {},
   "outputs": [
    {
     "name": "stdout",
     "output_type": "stream",
     "text": [
      "StartStart\n",
      "\n",
      "StartStart\n",
      "\n",
      "StartStart\n",
      "\n",
      "EndEndEnd\n",
      "EndEnd\n",
      "\n",
      "End\n",
      "\n",
      "\n",
      "Start\n",
      "End\n",
      "Start\n",
      "End\n",
      "Start\n",
      "End\n",
      "Start\n",
      "End\n"
     ]
    }
   ],
   "source": [
    "def myfunc():\n",
    "    print(\"Start\")\n",
    "    time.sleep(3)\n",
    "    print('End')\n",
    "    \n",
    "threads = []\n",
    "\n",
    "for i in range(5):\n",
    "    th = threading.Thread(target = myfunc)\n",
    "    th.start()\n",
    "    threads.append(th)\n",
    "\n",
    "for th in threads:\n",
    "    myfunc()"
   ]
  },
  {
   "cell_type": "code",
   "execution_count": 120,
   "metadata": {},
   "outputs": [],
   "source": [
    "r1 = range(10)"
   ]
  },
  {
   "cell_type": "code",
   "execution_count": 121,
   "metadata": {},
   "outputs": [
    {
     "data": {
      "text/plain": [
       "90"
      ]
     },
     "execution_count": 121,
     "metadata": {},
     "output_type": "execute_result"
    }
   ],
   "source": [
    "list(map((lambda a: a * 10), r1))[-1]"
   ]
  },
  {
   "cell_type": "code",
   "execution_count": 132,
   "metadata": {},
   "outputs": [
    {
     "name": "stdout",
     "output_type": "stream",
     "text": [
      "\\Choose the math opperation.\n",
      "\n"
     ]
    },
    {
     "name": "stdin",
     "output_type": "stream",
     "text": [
      "/Your option from the menu:  0\n",
      "\n",
      "First value:  1\n",
      "\n",
      "Second value:  1\n"
     ]
    },
    {
     "name": "stdout",
     "output_type": "stream",
     "text": [
      "\n",
      "The result is: 2.0\n",
      "\n"
     ]
    },
    {
     "name": "stdin",
     "output_type": "stream",
     "text": [
      "\n",
      "Go back to the main menu? (y/n)  y\n"
     ]
    },
    {
     "name": "stdout",
     "output_type": "stream",
     "text": [
      "\\Choose the math opperation.\n",
      "\n"
     ]
    },
    {
     "name": "stdin",
     "output_type": "stream",
     "text": [
      "/Your option from the menu:  1\n",
      "\n",
      "First value:  3\n",
      "\n",
      "Second value:  5\n"
     ]
    },
    {
     "name": "stdout",
     "output_type": "stream",
     "text": [
      "\n",
      "The result is: -2.0\n",
      "\n"
     ]
    },
    {
     "name": "stdin",
     "output_type": "stream",
     "text": [
      "\n",
      "Go back to the main menu? (y/n)  n\n"
     ]
    }
   ],
   "source": [
    "import math\n",
    "\n",
    "while True:\n",
    "    print(\"\\Choose the math opperation.\\n\")\n",
    "\n",
    "    oper = input(\"/Your option from the menu: \")\n",
    "\n",
    "    if oper == \"0\":\n",
    "        val1 = float(input(\"\\nFirst value: \"))\n",
    "        val2 = float(input(\"\\nSecond value: \"))\n",
    "\n",
    "        print(\"\\nThe result is: \" + str(val1 + val2) + \"\\n\")\n",
    "\n",
    "        back = input('\\nGo back to the main menu? (y/n) ')\n",
    "\n",
    "        if back == \"y\":\n",
    "            continue\n",
    "        else:\n",
    "            break\n",
    "\n",
    "    elif oper == \"1\":\n",
    "        val1 = float(input(\"\\nFirst value: \"))\n",
    "        val2 = float(input(\"\\nSecond value: \"))\n",
    "\n",
    "        print(\"\\nThe result is: \" + str(val1 - val2) + \"\\n\")\n",
    "\n",
    "        back = input('\\nGo back to the main menu? (y/n) ')\n",
    "\n",
    "        if back == \"y\":\n",
    "            continue\n",
    "        else:\n",
    "            break\n",
    "\n",
    "    elif oper == \"2\":\n",
    "        val1 = float(input(\"\\nFirst value: \"))\n",
    "        val2 = float(input(\"\\nSecond value: \"))\n",
    "\n",
    "        print(\"\\nThe result is: \" + str(val1 * val2) + \"\\n\")\n",
    "\n",
    "        back = input('\\nGo back to the main menu? (y/n) ')\n",
    "\n",
    "        if back == \"y\":\n",
    "            continue\n",
    "        else:\n",
    "            break\n",
    "\n",
    "    elif oper == \"3\":\n",
    "        val1 = float(input(\"\\nFirst value: \"))\n",
    "        val2 = float(input(\"\\nSecond value: \"))\n",
    "\n",
    "        print(\"\\nThe result is: \" + str(val1 / val2) + \"\\n\")\n",
    "\n",
    "        back = input('\\nGo back to the main menu? (y/n) ')\n",
    "\n",
    "        if back == \"y\":\n",
    "            continue\n",
    "        else:\n",
    "            break\n",
    "\n",
    "    elif oper == \"4\":\n",
    "        val1 = float(input(\"\\nFirst value: \"))\n",
    "        val2 = float(input(\"\\nSecond value: \"))\n",
    "\n",
    "        print(\"\\nThe result is: \" + str(val1 % val2) + \"\\n\")\n",
    "\n",
    "        back = input('\\nGo back to the main menu? (y/n) ')\n",
    "\n",
    "        if back == \"y\":\n",
    "            continue\n",
    "        else:\n",
    "            break\n",
    "\n",
    "    elif oper == \"5\":\n",
    "        val1 = float(input(\"\\nFirst value: \"))\n",
    "        val2 = float(input(\"\\nSecond value: \"))\n",
    "\n",
    "        print(\"\\nThe result is: \" + str(math.pow(val1, val2)) + \"\\n\")\n",
    "\n",
    "        back = input('\\nGo back to the main menu? (y/n) ')\n",
    "\n",
    "        if back == \"y\":\n",
    "            continue\n",
    "        else:\n",
    "            break\n",
    "\n",
    "    elif oper == \"6\":\n",
    "        val1 = float(input(\"\\nFirst value: \"))\n",
    "\n",
    "        print(\"\\nThe result is: \" + str(math.sqrt(val1)) + \"\\n\")\n",
    "\n",
    "        back = input('\\nGo back to the main menu? (y/n) ')\n",
    "\n",
    "        if back == \"y\":\n",
    "            continue\n",
    "        else:\n",
    "            break\n",
    "\n",
    "    elif oper == \"7\":\n",
    "        val1 = float(input(\"\\nFirst value: \"))\n",
    "\n",
    "        print(\"\\nThe result is: \" + str(math.log(val1, 2)) + \"\\n\")\n",
    "\n",
    "        back = input('\\nGo back to the main menu? (y/n) ')\n",
    "\n",
    "        if back == \"y\":\n",
    "            continue\n",
    "        else:\n",
    "            break\n",
    "\n",
    "    elif oper == \"8\":\n",
    "        val1 = float(input(\"\\nFirst value: \"))\n",
    "\n",
    "        print(\"\\nThe result is: \" + str(math.sin(math.radians(val1))) + \"\\n\")\n",
    "\n",
    "        back = input('\\nGo back to the main menu? (y/n) ')\n",
    "\n",
    "        if back == \"y\":\n",
    "            continue\n",
    "        else:\n",
    "            break\n",
    "\n",
    "    elif oper == \"9\":\n",
    "        val1 = float(input(\"\\nFirst value: \"))\n",
    "\n",
    "        print(\"\\nThe result is: \" + str(math.cos(math.radians(val1))) + \"\\n\")\n",
    "\n",
    "        back = input('\\nGo back to the main menu? (y/n) ')\n",
    "\n",
    "        if back == \"y\":\n",
    "            continue\n",
    "        else:\n",
    "            break\n",
    "\n",
    "    elif oper == \"10\":\n",
    "        val1 = float(input(\"\\nFirst value: \"))\n",
    "        val2 = float(input(\"\\nSecond value: \"))\n",
    "\n",
    "        print(\"\\nThe result is: \" + str(math.log(val1, 2)) + \"\\n\")\n",
    "\n",
    "        back = input('\\nGo back to the main menu? (y/n) ')\n",
    "\n",
    "        if back == \"y\":\n",
    "            continue\n",
    "        else:\n",
    "            break\n",
    "\n",
    "    else:\n",
    "        print(\"\\nInvalid option\\n\")\n",
    "        continue\n",
    "\n",
    "\n",
    "# END"
   ]
  },
  {
   "cell_type": "code",
   "execution_count": null,
   "metadata": {},
   "outputs": [],
   "source": []
  }
 ],
 "metadata": {
  "kernelspec": {
   "display_name": "Python 3",
   "language": "python",
   "name": "python3"
  },
  "language_info": {
   "codemirror_mode": {
    "name": "ipython",
    "version": 3
   },
   "file_extension": ".py",
   "mimetype": "text/x-python",
   "name": "python",
   "nbconvert_exporter": "python",
   "pygments_lexer": "ipython3",
   "version": "3.8.5"
  }
 },
 "nbformat": 4,
 "nbformat_minor": 4
}
